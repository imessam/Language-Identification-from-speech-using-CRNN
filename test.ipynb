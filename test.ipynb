{
 "cells": [
  {
   "cell_type": "code",
   "execution_count": 1,
   "id": "c33a8862",
   "metadata": {},
   "outputs": [
    {
     "name": "stdout",
     "output_type": "stream",
     "text": [
      "{0: 'english', 1: 'french', 2: 'chinese', 3: 'german', 4: 'italian', 5: 'spanish'} {'english': 0, 'french': 1, 'chinese': 2, 'german': 3, 'italian': 4, 'spanish': 5}\n"
     ]
    },
    {
     "name": "stderr",
     "output_type": "stream",
     "text": [
      "c:\\users\\imess\\appdata\\local\\programs\\python\\python39\\lib\\site-packages\\pydub\\utils.py:170: RuntimeWarning: Couldn't find ffmpeg or avconv - defaulting to ffmpeg, but may not work\n",
      "  warn(\"Couldn't find ffmpeg or avconv - defaulting to ffmpeg, but may not work\", RuntimeWarning)\n"
     ]
    }
   ],
   "source": [
    "import tensorflow as tf\n",
    "import numpy as np\n",
    "from utils import *\n",
    "from AudioSplitter import WavSplitter\n",
    "\n",
    "print(idx2label,label2idx)"
   ]
  },
  {
   "cell_type": "code",
   "execution_count": 2,
   "id": "45d49e75",
   "metadata": {},
   "outputs": [],
   "source": [
    "splitter = WavSplitter()\n",
    "folderName = \"test\"\n",
    "spectogsFolderName = \"spectogos\"\n",
    "input_dim=(300, 129,3)"
   ]
  },
  {
   "cell_type": "code",
   "execution_count": 3,
   "id": "9f02eedf",
   "metadata": {},
   "outputs": [
    {
     "name": "stdout",
     "output_type": "stream",
     "text": [
      "0 Done\n",
      "4 Done\n",
      "8 Done\n",
      "12 Done\n",
      "16 Done\n",
      "20 Done\n",
      "24 Done\n",
      "28 Done\n",
      "32 Done\n",
      "36 Done\n",
      "40 Done\n",
      "44 Done\n",
      "48 Done\n",
      "52 Done\n",
      "56 Done\n",
      "60 Done\n",
      "64 Done\n",
      "68 Done\n",
      "72 Done\n",
      "76 Done\n",
      "80 Done\n",
      "84 Done\n",
      "88 Done\n",
      "92 Done\n",
      "96 Done\n",
      "100 Done\n",
      "104 Done\n",
      "108 Done\n",
      "112 Done\n",
      "116 Done\n",
      "120 Done\n",
      "124 Done\n",
      "128 Done\n",
      "132 Done\n",
      "136 Done\n",
      "140 Done\n",
      "144 Done\n",
      "148 Done\n",
      "152 Done\n",
      "156 Done\n",
      "160 Done\n",
      "164 Done\n",
      "168 Done\n",
      "172 Done\n",
      "176 Done\n",
      "180 Done\n",
      "184 Done\n",
      "188 Done\n",
      "192 Done\n",
      "196 Done\n",
      "200 Done\n",
      "204 Done\n",
      "208 Done\n",
      "212 Done\n",
      "216 Done\n",
      "220 Done\n",
      "224 Done\n",
      "228 Done\n",
      "232 Done\n",
      "236 Done\n",
      "240 Done\n",
      "244 Done\n",
      "248 Done\n",
      "252 Done\n",
      "256 Done\n",
      "260 Done\n",
      "264 Done\n",
      "268 Done\n",
      "272 Done\n",
      "276 Done\n",
      "280 Done\n",
      "284 Done\n",
      "288 Done\n",
      "292 Done\n",
      "296 Done\n",
      "300 Done\n",
      "304 Done\n",
      "308 Done\n",
      "312 Done\n",
      "316 Done\n",
      "320 Done\n",
      "324 Done\n",
      "328 Done\n",
      "332 Done\n",
      "336 Done\n",
      "340 Done\n",
      "344 Done\n",
      "348 Done\n",
      "352 Done\n",
      "356 Done\n",
      "360 Done\n",
      "364 Done\n",
      "368 Done\n",
      "372 Done\n",
      "376 Done\n",
      "380 Done\n",
      "384 Done\n",
      "388 Done\n",
      "392 Done\n",
      "396 Done\n",
      "400 Done\n",
      "404 Done\n",
      "408 Done\n",
      "412 Done\n",
      "416 Done\n",
      "420 Done\n",
      "424 Done\n",
      "428 Done\n",
      "432 Done\n",
      "436 Done\n",
      "440 Done\n",
      "444 Done\n",
      "448 Done\n",
      "452 Done\n",
      "456 Done\n",
      "460 Done\n",
      "464 Done\n",
      "468 Done\n",
      "472 Done\n",
      "476 Done\n",
      "480 Done\n",
      "484 Done\n",
      "488 Done\n",
      "492 Done\n",
      "496 Done\n",
      "500 Done\n",
      "504 Done\n",
      "508 Done\n",
      "512 Done\n",
      "516 Done\n",
      "520 Done\n",
      "524 Done\n",
      "528 Done\n",
      "532 Done\n",
      "536 Done\n",
      "540 Done\n",
      "544 Done\n",
      "548 Done\n",
      "552 Done\n"
     ]
    }
   ],
   "source": [
    "outPath = splitter.multiple_split(folderName,\"italian_test.wav\",4)"
   ]
  },
  {
   "cell_type": "code",
   "execution_count": 4,
   "id": "60d9bd5a",
   "metadata": {},
   "outputs": [],
   "source": [
    "model = tf.keras.models.load_model(\"trained models/CRNN InceptionV3 (300x129) original .h5\")"
   ]
  },
  {
   "cell_type": "code",
   "execution_count": 5,
   "id": "b79b28c1",
   "metadata": {},
   "outputs": [
    {
     "name": "stdout",
     "output_type": "stream",
     "text": [
      "Extracting from temp\\italian_test.wav\n",
      "Remaining 100\n",
      "Remaining 0\n"
     ]
    }
   ],
   "source": [
    "outSpectsPath = extractSpectFromFolder(outPath,os.path.join(spectogsFolderName,\"italian_test.wav\"))"
   ]
  },
  {
   "cell_type": "code",
   "execution_count": 6,
   "id": "b5d076e6",
   "metadata": {},
   "outputs": [
    {
     "name": "stdout",
     "output_type": "stream",
     "text": [
      "Found 137 images belonging to 1 classes.\n"
     ]
    }
   ],
   "source": [
    "datagen = tf.keras.preprocessing.image.ImageDataGenerator(\n",
    "            rescale=1./255\n",
    "        )\n",
    "\n",
    "test_it = datagen.flow_from_directory(\n",
    "            directory=spectogsFolderName,\n",
    "            class_mode=None,\n",
    "            target_size=input_dim[:2],\n",
    "\n",
    "        )"
   ]
  },
  {
   "cell_type": "code",
   "execution_count": 7,
   "id": "2de090e4",
   "metadata": {},
   "outputs": [],
   "source": [
    "preds = model.predict(test_it)"
   ]
  },
  {
   "cell_type": "code",
   "execution_count": 8,
   "id": "8cd2e63b",
   "metadata": {},
   "outputs": [],
   "source": [
    "preds = np.mean(preds,axis = 0)"
   ]
  },
  {
   "cell_type": "code",
   "execution_count": 9,
   "id": "a1f3d315",
   "metadata": {},
   "outputs": [
    {
     "name": "stdout",
     "output_type": "stream",
     "text": [
      "german\n"
     ]
    }
   ],
   "source": [
    "pred = idx2label[np.argmax(preds)]\n",
    "print(pred)"
   ]
  },
  {
   "cell_type": "code",
   "execution_count": 10,
   "id": "681708bb",
   "metadata": {},
   "outputs": [
    {
     "name": "stdout",
     "output_type": "stream",
     "text": [
      "english : 0.2054322510957718\n",
      "french : 0.10125961899757385\n",
      "chinese : 0.1930394321680069\n",
      "german : 0.4086968004703522\n",
      "italian : 0.02564341016113758\n",
      "spanish : 0.06592848151922226\n"
     ]
    }
   ],
   "source": [
    "for i,score in enumerate(preds):\n",
    "    print(f\"{idx2label[i]} : {score}\")"
   ]
  },
  {
   "cell_type": "code",
   "execution_count": 30,
   "id": "15dbd168",
   "metadata": {},
   "outputs": [],
   "source": [
    "import shutil\n",
    "from tqdm.auto import tqdm\n",
    "import tensorflow as tf\n",
    "import numpy as np\n",
    "from utils import *\n",
    "from AudioSplitter import WavSplitter\n",
    "\n",
    "model = tf.keras.models.load_model(\"trained models/CRNN InceptionV3 (300x129) original .h5\")\n",
    "splitter = WavSplitter()\n",
    "datagen = tf.keras.preprocessing.image.ImageDataGenerator(\n",
    "            rescale=1./255\n",
    "            )\n",
    "\n",
    "spectogsFolderName = \"spectogos\"\n",
    "input_dim=(300, 129,3)\n",
    "    \n",
    "if os.path.isdir(spectogsFolderName):\n",
    "    shutil.rmtree(spectogsFolderName)\n",
    "os.mkdir(spectogsFolderName)\n",
    "\n",
    "\n",
    "def run(path):\n",
    "    \n",
    "    folderName = path\n",
    "\n",
    "    \n",
    "    for file in tqdm(os.listdir(path)):\n",
    "        \n",
    "        outPath = splitter.multiple_split(folderName,file,4)\n",
    "        outSpectsPath = extractSpectFromFolder(outPath,os.path.join(spectogsFolderName,file))\n",
    "        \n",
    "        test_it = datagen.flow_from_directory(\n",
    "                    directory=spectogsFolderName,\n",
    "                    class_mode=None,\n",
    "                    target_size=input_dim[:2],\n",
    "                )\n",
    "        print(\"Predicting ....\")\n",
    "        preds = model.predict(test_it)\n",
    "        preds = np.mean(preds,axis = 0)\n",
    "        \n",
    "        for i,score in enumerate(preds):\n",
    "            print(f\"{idx2label[i]} : {score}\")\n",
    "            \n",
    "        pred = idx2label[np.argmax(preds)]\n",
    "        print(f\"Prediction is for {file} : {pred}\")\n",
    "        \n",
    "        if os.path.isdir(outSpectsPath):\n",
    "            shutil.rmtree(outSpectsPath)\n",
    "        \n",
    "\n",
    "                               "
   ]
  },
  {
   "cell_type": "code",
   "execution_count": 31,
   "id": "cbcdb69d",
   "metadata": {},
   "outputs": [
    {
     "data": {
      "application/vnd.jupyter.widget-view+json": {
       "model_id": "f300808464a34b978cd4110bd17b4ec4",
       "version_major": 2,
       "version_minor": 0
      },
      "text/plain": [
       "  0%|          | 0/4 [00:00<?, ?it/s]"
      ]
     },
     "metadata": {},
     "output_type": "display_data"
    },
    {
     "name": "stdout",
     "output_type": "stream",
     "text": [
      "Splitting french_test.wav into samples of 4 seconds each...\n"
     ]
    },
    {
     "data": {
      "application/vnd.jupyter.widget-view+json": {
       "model_id": "528b739bf1f3428396328ca2934f9d80",
       "version_major": 2,
       "version_minor": 0
      },
      "text/plain": [
       "  0%|          | 0/156 [00:00<?, ?it/s]"
      ]
     },
     "metadata": {},
     "output_type": "display_data"
    },
    {
     "name": "stdout",
     "output_type": "stream",
     "text": [
      "All splited successfully\n",
      "Extracting spectograms from temp\\french_test.wav ....\n"
     ]
    },
    {
     "data": {
      "application/vnd.jupyter.widget-view+json": {
       "model_id": "0a9d10cbdd4743c0adb80e2e513da4e5",
       "version_major": 2,
       "version_minor": 0
      },
      "text/plain": [
       "  0%|          | 0/156 [00:00<?, ?it/s]"
      ]
     },
     "metadata": {},
     "output_type": "display_data"
    },
    {
     "name": "stdout",
     "output_type": "stream",
     "text": [
      "Found 156 images belonging to 1 classes.\n",
      "english : 0.20623867213726044\n",
      "french : 0.0902208536863327\n",
      "chinese : 0.3303147852420807\n",
      "german : 0.23582549393177032\n",
      "italian : 0.020203936845064163\n",
      "spanish : 0.11719614267349243\n",
      "prediction is : chinese\n",
      "Splitting german_test.wav into samples of 4 seconds each...\n"
     ]
    },
    {
     "data": {
      "application/vnd.jupyter.widget-view+json": {
       "model_id": "a98be38d39d1426382c8c35b3e35943c",
       "version_major": 2,
       "version_minor": 0
      },
      "text/plain": [
       "  0%|          | 0/161 [00:00<?, ?it/s]"
      ]
     },
     "metadata": {},
     "output_type": "display_data"
    },
    {
     "name": "stdout",
     "output_type": "stream",
     "text": [
      "Extracting spectograms from temp\\german_test.wav ....\n"
     ]
    },
    {
     "data": {
      "application/vnd.jupyter.widget-view+json": {
       "model_id": "0ec585b56d37488f87c6f6dfbb30168d",
       "version_major": 2,
       "version_minor": 0
      },
      "text/plain": [
       "  0%|          | 0/161 [00:00<?, ?it/s]"
      ]
     },
     "metadata": {},
     "output_type": "display_data"
    },
    {
     "name": "stdout",
     "output_type": "stream",
     "text": [
      "Found 157 images belonging to 1 classes.\n",
      "english : 0.07426890730857849\n",
      "french : 0.09279003739356995\n",
      "chinese : 0.08617651462554932\n",
      "german : 0.44003063440322876\n",
      "italian : 0.025416111573576927\n",
      "spanish : 0.28131771087646484\n",
      "prediction is : german\n",
      "Splitting italian_test.wav into samples of 4 seconds each...\n"
     ]
    },
    {
     "data": {
      "application/vnd.jupyter.widget-view+json": {
       "model_id": "2afb94535fa84ebcbd73e4126eec83e9",
       "version_major": 2,
       "version_minor": 0
      },
      "text/plain": [
       "  0%|          | 0/139 [00:00<?, ?it/s]"
      ]
     },
     "metadata": {},
     "output_type": "display_data"
    },
    {
     "name": "stdout",
     "output_type": "stream",
     "text": [
      "Extracting spectograms from temp\\italian_test.wav ....\n"
     ]
    },
    {
     "data": {
      "application/vnd.jupyter.widget-view+json": {
       "model_id": "ae82fa8b2d4d41cfb735cb8a7120abcf",
       "version_major": 2,
       "version_minor": 0
      },
      "text/plain": [
       "  0%|          | 0/139 [00:00<?, ?it/s]"
      ]
     },
     "metadata": {},
     "output_type": "display_data"
    },
    {
     "name": "stdout",
     "output_type": "stream",
     "text": [
      "Found 137 images belonging to 1 classes.\n",
      "english : 0.20543181896209717\n",
      "french : 0.10125884413719177\n",
      "chinese : 0.1930403858423233\n",
      "german : 0.40869730710983276\n",
      "italian : 0.02564402110874653\n",
      "spanish : 0.06592760980129242\n",
      "prediction is : german\n",
      "Splitting spanish_test.wav into samples of 4 seconds each...\n"
     ]
    },
    {
     "data": {
      "application/vnd.jupyter.widget-view+json": {
       "model_id": "6d3a18422b1b49b186c6ecf7c2bf4bd8",
       "version_major": 2,
       "version_minor": 0
      },
      "text/plain": [
       "  0%|          | 0/131 [00:00<?, ?it/s]"
      ]
     },
     "metadata": {},
     "output_type": "display_data"
    },
    {
     "name": "stdout",
     "output_type": "stream",
     "text": [
      "Extracting spectograms from temp\\spanish_test.wav ....\n"
     ]
    },
    {
     "data": {
      "application/vnd.jupyter.widget-view+json": {
       "model_id": "6b039d5a6293444da66a3dd815f1f84e",
       "version_major": 2,
       "version_minor": 0
      },
      "text/plain": [
       "  0%|          | 0/131 [00:00<?, ?it/s]"
      ]
     },
     "metadata": {},
     "output_type": "display_data"
    },
    {
     "name": "stdout",
     "output_type": "stream",
     "text": [
      "Found 116 images belonging to 1 classes.\n",
      "english : 0.09327022731304169\n",
      "french : 0.19789396226406097\n",
      "chinese : 0.14068292081356049\n",
      "german : 0.3664368987083435\n",
      "italian : 0.040405817329883575\n",
      "spanish : 0.1613101065158844\n",
      "prediction is : german\n"
     ]
    }
   ],
   "source": [
    "run(folderName)"
   ]
  },
  {
   "cell_type": "code",
   "execution_count": null,
   "id": "0ba1576d",
   "metadata": {},
   "outputs": [],
   "source": []
  }
 ],
 "metadata": {
  "kernelspec": {
   "display_name": "Python 3 (ipykernel)",
   "language": "python",
   "name": "python3"
  },
  "language_info": {
   "codemirror_mode": {
    "name": "ipython",
    "version": 3
   },
   "file_extension": ".py",
   "mimetype": "text/x-python",
   "name": "python",
   "nbconvert_exporter": "python",
   "pygments_lexer": "ipython3",
   "version": "3.9.0"
  }
 },
 "nbformat": 4,
 "nbformat_minor": 5
}
