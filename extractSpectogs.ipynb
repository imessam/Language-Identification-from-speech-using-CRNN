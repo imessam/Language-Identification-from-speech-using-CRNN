{
 "cells": [
  {
   "cell_type": "code",
   "execution_count": 1,
   "metadata": {
    "execution": {
     "iopub.execute_input": "2021-09-14T16:09:55.040489Z",
     "iopub.status.busy": "2021-09-14T16:09:55.039906Z",
     "iopub.status.idle": "2021-09-14T16:10:02.116818Z",
     "shell.execute_reply": "2021-09-14T16:10:02.115588Z",
     "shell.execute_reply.started": "2021-09-14T16:09:55.040392Z"
    }
   },
   "outputs": [],
   "source": [
    "import numpy as np\n",
    "import os\n",
    "import pickle\n",
    "from utils import *\n"
   ]
  },
  {
   "cell_type": "code",
   "execution_count": null,
   "metadata": {
    "execution": {
     "iopub.execute_input": "2021-09-14T16:10:19.191517Z",
     "iopub.status.busy": "2021-09-14T16:10:19.191125Z",
     "iopub.status.idle": "2021-09-14T16:10:19.201222Z",
     "shell.execute_reply": "2021-09-14T16:10:19.200206Z",
     "shell.execute_reply.started": "2021-09-14T16:10:19.191482Z"
    }
   },
   "outputs": [],
   "source": [
    "# Initialize data paths.\n",
    "\n",
    "dataTrainPath = \"kaggle/input/commonvoice-langage/dataset/train\"\n",
    "dataTestPath = \"kaggle/input/commonvoice-langage/dataset/validation\"\n",
    "\n",
    "\n",
    "## Initialize train data paths.##\n",
    "\n",
    "englishTrainData = os.path.join(dataTrainPath,\"english\").replace(\"\\\\\",\"/\")\n",
    "frenchTrainData = os.path.join(dataTrainPath,\"french\").replace(\"\\\\\",\"/\")\n",
    "chineseTrainData = os.path.join(dataTrainPath,\"chinese\").replace(\"\\\\\",\"/\")\n",
    "germanTrainData = os.path.join(dataTrainPath,\"german\").replace(\"\\\\\",\"/\")\n",
    "italianTrainData = os.path.join(dataTrainPath,\"italian\").replace(\"\\\\\",\"/\")\n",
    "spanishTrainData = os.path.join(dataTrainPath,\"spanish\").replace(\"\\\\\",\"/\")\n",
    "\n",
    "\n",
    "## Initialize test data paths.##\n",
    "\n",
    "englishTestData = os.path.join(dataTestPath,\"english\").replace(\"\\\\\",\"/\")\n",
    "frenchTestData = os.path.join(dataTestPath,\"french\").replace(\"\\\\\",\"/\")\n",
    "chineseTestData = os.path.join(dataTestPath,\"chinese\").replace(\"\\\\\",\"/\")\n",
    "germanTestData = os.path.join(dataTestPath,\"german\").replace(\"\\\\\",\"/\")\n",
    "italianTestData = os.path.join(dataTestPath,\"italian\").replace(\"\\\\\",\"/\")\n",
    "spanishTestData = os.path.join(dataTestPath,\"spanish\").replace(\"\\\\\",\"/\")\n",
    "\n",
    "langsTrain = {\"chinese\":chineseTrainData,\"english\":englishTrainData,\"french\":frenchTrainData,\n",
    "             \"german\":germanTrainData,\"italian\":italianTrainData,\"spanish\":spanishTrainData}\n",
    "\n",
    "langsTest = {\"chinese\":chineseTestData,\"english\":englishTestData,\"french\":frenchTestData,\n",
    "             \"german\":germanTestData,\"italian\":italianTestData,\"spanish\":spanishTestData}\n",
    "\n",
    "langsData = {\"train\":langsTrain,\"test\":langsTest}\n"
   ]
  },
  {
   "cell_type": "code",
   "execution_count": null,
   "metadata": {},
   "outputs": [],
   "source": [
    "extractSpectFromData(langsData,True)"
   ]
  },
  {
   "cell_type": "code",
   "execution_count": null,
   "metadata": {},
   "outputs": [],
   "source": []
  },
  {
   "cell_type": "code",
   "execution_count": null,
   "metadata": {},
   "outputs": [],
   "source": []
  }
 ],
 "metadata": {
  "kernelspec": {
   "display_name": "Python 3 (ipykernel)",
   "language": "python",
   "name": "python3"
  },
  "language_info": {
   "codemirror_mode": {
    "name": "ipython",
    "version": 3
   },
   "file_extension": ".py",
   "mimetype": "text/x-python",
   "name": "python",
   "nbconvert_exporter": "python",
   "pygments_lexer": "ipython3",
   "version": "3.9.0"
  }
 },
 "nbformat": 4,
 "nbformat_minor": 4
}
