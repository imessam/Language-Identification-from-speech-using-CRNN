{
 "cells": [
  {
   "cell_type": "code",
   "execution_count": 1,
   "id": "38fc80c3",
   "metadata": {},
   "outputs": [],
   "source": [
    "import numpy as np\n",
    "import pandas as pd\n",
    "import crnn\n",
    "import os"
   ]
  },
  {
   "cell_type": "code",
   "execution_count": 4,
   "id": "16971a4d",
   "metadata": {},
   "outputs": [],
   "source": [
    "dataPath = \"original data\"\n",
    "\n",
    "dataTrainPath = os.path.join(dataPath,\"train\")\n",
    "dataTestPath = os.path.join(dataPath,\"test\")\n",
    "\n",
    "#trainedPath=\"trained models/CRNN InceptionV3 (300x129) original .h5\""
   ]
  },
  {
   "cell_type": "code",
   "execution_count": 2,
   "id": "ce5b0adc",
   "metadata": {},
   "outputs": [],
   "source": [
    "crnnObject = crnn.CRNN(trainedPath=None,input_dim=(300, 129,3),no_classes=6)"
   ]
  },
  {
   "cell_type": "code",
   "execution_count": 5,
   "id": "fce5c5fb",
   "metadata": {},
   "outputs": [
    {
     "name": "stdout",
     "output_type": "stream",
     "text": [
      "Found 84869 images belonging to 6 classes.\n",
      "Found 25458 images belonging to 6 classes.\n",
      "Found 21220 images belonging to 6 classes.\n",
      "Train Batch shape=(32, 300, 129, 3), min=0.000, max=1.000\n",
      "Validation Batch shape=(32, 300, 129, 3), min=0.000, max=1.000\n",
      "Test Batch shape=(32, 300, 129, 3), min=0.000, max=1.000\n"
     ]
    }
   ],
   "source": [
    "crnnObject.initializeData(trainPath=dataTrainPath,testPath=dataTestPath)"
   ]
  },
  {
   "cell_type": "code",
   "execution_count": 6,
   "id": "2e8017ec",
   "metadata": {},
   "outputs": [
    {
     "name": "stdout",
     "output_type": "stream",
     "text": [
      "Downloading data from https://storage.googleapis.com/tensorflow/keras-applications/inception_v3/inception_v3_weights_tf_dim_ordering_tf_kernels_notop.h5\n",
      "87916544/87910968 [==============================] - 65s 1us/step\n",
      "87924736/87910968 [==============================] - 65s 1us/step\n",
      "(None, 8, 2048)\n",
      "(None, 512)\n",
      "(None, 6)\n",
      "Model: \"model\"\n",
      "_________________________________________________________________\n",
      "Layer (type)                 Output Shape              Param #   \n",
      "=================================================================\n",
      "input_2 (InputLayer)         [(None, 300, 129, 3)]     0         \n",
      "_________________________________________________________________\n",
      "inception_v3 (Functional)    (None, 8, 2, 2048)        21802784  \n",
      "_________________________________________________________________\n",
      "tf.math.reduce_mean (TFOpLam (None, 8, 2048)           0         \n",
      "_________________________________________________________________\n",
      "bidirectional (Bidirectional (None, 8, 512)            4720640   \n",
      "_________________________________________________________________\n",
      "tf.__operators__.getitem (Sl (None, 512)               0         \n",
      "_________________________________________________________________\n",
      "dense_1 (Dense)              (None, 6)                 3078      \n",
      "=================================================================\n",
      "Total params: 26,526,502\n",
      "Trainable params: 26,492,070\n",
      "Non-trainable params: 34,432\n",
      "_________________________________________________________________\n"
     ]
    }
   ],
   "source": [
    "crnnObject.initializeModel(isBaseCnn=False)"
   ]
  },
  {
   "cell_type": "code",
   "execution_count": 8,
   "id": "b22395d0",
   "metadata": {},
   "outputs": [
    {
     "name": "stdout",
     "output_type": "stream",
     "text": [
      "Epoch 1/10\n",
      "2653/2653 [==============================] - 1506s 564ms/step - loss: 1.3958 - accuracy: 0.4137 - val_loss: 1.2695 - val_accuracy: 0.5050\n",
      "Epoch 2/10\n",
      "2653/2653 [==============================] - 903s 340ms/step - loss: 0.9855 - accuracy: 0.6236 - val_loss: 1.6007 - val_accuracy: 0.5046\n",
      "Epoch 3/10\n",
      "2653/2653 [==============================] - 917s 345ms/step - loss: 0.8081 - accuracy: 0.7056 - val_loss: 0.8867 - val_accuracy: 0.6715\n",
      "Epoch 4/10\n",
      "2653/2653 [==============================] - 1043s 393ms/step - loss: 0.6695 - accuracy: 0.7602 - val_loss: 0.8976 - val_accuracy: 0.6738\n",
      "Epoch 5/10\n",
      "2653/2653 [==============================] - 1350s 508ms/step - loss: 0.5660 - accuracy: 0.7991 - val_loss: 0.6867 - val_accuracy: 0.7476\n",
      "Epoch 6/10\n",
      "2653/2653 [==============================] - 869s 327ms/step - loss: 0.4808 - accuracy: 0.8302 - val_loss: 0.7572 - val_accuracy: 0.7184\n",
      "Epoch 7/10\n",
      "2653/2653 [==============================] - 843s 317ms/step - loss: 0.4085 - accuracy: 0.8571 - val_loss: 0.5108 - val_accuracy: 0.8172\n",
      "Epoch 8/10\n",
      "2653/2653 [==============================] - 940s 353ms/step - loss: 0.3460 - accuracy: 0.8789 - val_loss: 0.4125 - val_accuracy: 0.8518\n",
      "Epoch 9/10\n",
      "2653/2653 [==============================] - 963s 363ms/step - loss: 0.2984 - accuracy: 0.8953 - val_loss: 0.2726 - val_accuracy: 0.9041\n",
      "Epoch 10/10\n",
      "2653/2653 [==============================] - 886s 334ms/step - loss: 0.2536 - accuracy: 0.9123 - val_loss: 0.2108 - val_accuracy: 0.9285\n"
     ]
    }
   ],
   "source": [
    "hist=crnnObject.train(epochs=10,savePath=\"savedModel\")"
   ]
  },
  {
   "cell_type": "code",
   "execution_count": 9,
   "id": "9444f63e",
   "metadata": {},
   "outputs": [
    {
     "name": "stdout",
     "output_type": "stream",
     "text": [
      "664/664 [==============================] - 685s 1s/step - loss: 0.5944 - accuracy: 0.8123\n"
     ]
    },
    {
     "data": {
      "text/plain": [
       "[0.5944027304649353, 0.8122997283935547]"
      ]
     },
     "execution_count": 9,
     "metadata": {},
     "output_type": "execute_result"
    }
   ],
   "source": [
    "crnnObject.test()"
   ]
  },
  {
   "cell_type": "code",
   "execution_count": null,
   "id": "6c1e94aa",
   "metadata": {},
   "outputs": [],
   "source": []
  }
 ],
 "metadata": {
  "kernelspec": {
   "display_name": "Python 3 (ipykernel)",
   "language": "python",
   "name": "python3"
  },
  "language_info": {
   "codemirror_mode": {
    "name": "ipython",
    "version": 3
   },
   "file_extension": ".py",
   "mimetype": "text/x-python",
   "name": "python",
   "nbconvert_exporter": "python",
   "pygments_lexer": "ipython3",
   "version": "3.9.0"
  }
 },
 "nbformat": 4,
 "nbformat_minor": 5
}
