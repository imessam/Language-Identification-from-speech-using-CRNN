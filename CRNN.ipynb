{
 "cells": [
  {
   "cell_type": "code",
   "execution_count": 1,
   "id": "38fc80c3",
   "metadata": {},
   "outputs": [],
   "source": [
    "import numpy as np\n",
    "import pandas as pd\n",
    "import crnn\n",
    "import os"
   ]
  },
  {
   "cell_type": "code",
   "execution_count": null,
   "id": "16971a4d",
   "metadata": {},
   "outputs": [],
   "source": [
    "dataPath = \"original data\"\n",
    "\n",
    "dataTrainPath = os.path.join(dataPath,\"train\")\n",
    "dataTestPath = os.path.join(dataPath,\"test\")\n",
    "\n",
    "trainedPath=\"trained models/CRNN InceptionV3 (300x129) original .h5\""
   ]
  },
  {
   "cell_type": "code",
   "execution_count": null,
   "id": "ce5b0adc",
   "metadata": {},
   "outputs": [],
   "source": [
    "crnnObject = crnn.CRNN(trainedPath=trainedPath,input_dim=(300, 129,3),no_classes=6)"
   ]
  },
  {
   "cell_type": "code",
   "execution_count": null,
   "id": "fce5c5fb",
   "metadata": {},
   "outputs": [],
   "source": [
    "crnnObject.initializeData(trainPath=dataTrainPath,testPath=dataTestPath)"
   ]
  },
  {
   "cell_type": "code",
   "execution_count": null,
   "id": "2e8017ec",
   "metadata": {},
   "outputs": [],
   "source": [
    "crnnObject.initializeModel(isBaseCnn=False)"
   ]
  },
  {
   "cell_type": "code",
   "execution_count": null,
   "id": "b22395d0",
   "metadata": {},
   "outputs": [],
   "source": [
    "hist=crnnObject.train()"
   ]
  },
  {
   "cell_type": "code",
   "execution_count": null,
   "id": "9444f63e",
   "metadata": {},
   "outputs": [],
   "source": [
    "crnnObject.test()"
   ]
  },
  {
   "cell_type": "code",
   "execution_count": null,
   "id": "6c1e94aa",
   "metadata": {},
   "outputs": [],
   "source": []
  }
 ],
 "metadata": {
  "kernelspec": {
   "display_name": "Python 3 (ipykernel)",
   "language": "python",
   "name": "python3"
  },
  "language_info": {
   "codemirror_mode": {
    "name": "ipython",
    "version": 3
   },
   "file_extension": ".py",
   "mimetype": "text/x-python",
   "name": "python",
   "nbconvert_exporter": "python",
   "pygments_lexer": "ipython3",
   "version": "3.9.0"
  }
 },
 "nbformat": 4,
 "nbformat_minor": 5
}
